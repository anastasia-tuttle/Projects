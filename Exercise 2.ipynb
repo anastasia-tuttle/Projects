{
 "cells": [
  {
   "cell_type": "markdown",
   "id": "4391ea63",
   "metadata": {},
   "source": [
    "# Exercise 2"
   ]
  },
  {
   "cell_type": "markdown",
   "id": "4b559018",
   "metadata": {},
   "source": [
    "This exercise will explore the combinatorial explosion that is possible when two players play randomly. We will be using a program that, building on the previous sample results, generates all possible sequences of moves between a computer player and a human player."
   ]
  },
  {
   "cell_type": "markdown",
   "id": "74bd8624",
   "metadata": {},
   "source": [
    "Let's assume that the human player may make any possible move. In this exercise, given that the computer player is playing randomly, we will examine the wins, losses, and draws belonging to two randomly playing players:"
   ]
  },
  {
   "cell_type": "markdown",
   "id": "cc16892d",
   "metadata": {},
   "source": [
    "1. Reuse all the function codes of Steps 1–8 from example"
   ]
  },
  {
   "cell_type": "code",
   "execution_count": null,
   "id": "6052e4f6",
   "metadata": {},
   "outputs": [],
   "source": [
    "from random import choice\n",
    "combo_indices = [\n",
    "    [0, 1, 2],\n",
    "    [3, 4, 5],\n",
    "    [6, 7, 8],\n",
    "    [0, 3, 6],\n",
    "    [1, 4, 7],\n",
    "    [2, 5, 8],\n",
    "    [0, 4, 8],\n",
    "    [2, 4, 6]\n",
    "]\n",
    "EMPTY_SIGN = '.'\n",
    "AI_SIGN = 'X'\n",
    "OPPONENT_SIGN = 'O'\n",
    "def print_board(board):\n",
    "    print(\" \")\n",
    "    print(' '.join(board[:3]))\n",
    "    print(' '.join(board[3:6]))\n",
    "    print(' '.join(board[6:]))\n",
    "    print(\" \")\n",
    "def opponent_move(board, row, column):\n",
    "    index = 3 * (row - 1) + (column - 1)\n",
    "    if board[index] == EMPTY_SIGN:\n",
    "        return board[:index] + OPPONENT_SIGN + board[index+1:]\n",
    "    return board\n",
    "\n",
    "def all_moves_from_board(board, sign):\n",
    "    move_list = []\n",
    "    for i, v in enumerate(board):\n",
    "        if v == EMPTY_SIGN:\n",
    "            move_list.append(board[:i] + sign + board[i+1:])\n",
    "    return move_list\n",
    "\n",
    "def ai_move(board):\n",
    "    return choice(all_moves_from_board(board, AI_SIGN))\n",
    "\n",
    "def game_won_by(board):\n",
    "    for index in combo_indices:\n",
    "        if board[index[0]] == board[index[1]] == board[index[2]] != EMPTY_SIGN:\n",
    "            return board[index[0]]\n",
    "    return EMPTY_SIGN\n",
    "\n",
    "def game_loop():\n",
    "    board = EMPTY_SIGN * 9\n",
    "    empty_cell_count = 9\n",
    "    is_game_ended = False\n",
    "    while empty_cell_count > 0 and not is_game_ended:\n",
    "        if empty_cell_count % 2 == 1:\n",
    "            board = ai_move(board)\n",
    "        else:\n",
    "            row = int(input('Enter row: '))\n",
    "            col = int(input('Enter column: '))\n",
    "            board = opponent_move(board, row, col)\n",
    "        print_board(board)\n",
    "        is_game_ended = game_won_by(board) != EMPTY_SIGN\n",
    "        empty_cell_count = sum(1 for cell in board if cell == EMPTY_SIGN)\n",
    "    print('Game has been ended.')"
   ]
  },
  {
   "cell_type": "markdown",
   "id": "d6e59de4",
   "metadata": {},
   "source": [
    "2. Create a function that maps the \" all_moves_from_board \" function on each element of a list of board spaces/squares. This way, we will have all of the nodes of a decision tree. The decision tree starts with [ EMPTY_SIGN * 9 ] and expands after each move."
   ]
  },
  {
   "cell_type": "code",
   "execution_count": null,
   "id": "bf6a4c75",
   "metadata": {},
   "outputs": [],
   "source": [
    "def all_moves_from_board_list(board_list, sign):\n",
    "# your code\n",
    "move_list = []\n",
    "    for board in board_list:\n",
    "        move_list.extend(all_moves_from_board(board, sign))\n",
    "    return move_list"
   ]
  },
  {
   "cell_type": "code",
   "execution_count": null,
   "id": "58a9a911",
   "metadata": {},
   "outputs": [],
   "source": []
  },
  {
   "cell_type": "code",
   "execution_count": 3,
   "id": "175dc54a",
   "metadata": {},
   "outputs": [
    {
     "data": {
      "text/plain": [
       "['X........',\n",
       " '.X.......',\n",
       " '..X......',\n",
       " '...X.....',\n",
       " '....X....',\n",
       " '.....X...',\n",
       " '......X..',\n",
       " '.......X.',\n",
       " '........X']"
      ]
     },
     "execution_count": 3,
     "metadata": {},
     "output_type": "execute_result"
    }
   ],
   "source": [
    "board = EMPTY_SIGN * 9\n",
    "all_moves = all_moves_from_board(board, AI_SIGN )\n",
    "all_moves"
   ]
  },
  {
   "cell_type": "markdown",
   "id": "ebdf281d",
   "metadata": {},
   "source": [
    "3. Create a \" filter_wins \" function that takes finished games out of the list of moves and appends them in an array containing the board states won by the AI player and the opponent player."
   ]
  },
  {
   "cell_type": "code",
   "execution_count": 4,
   "id": "514bec3b",
   "metadata": {},
   "outputs": [],
   "source": [
    "def filter_wins(move_list, ai_wins, opponent_wins):\n",
    "# your code\n",
    "for board in move_list:\n",
    "        won_by = game_won_by(board)\n",
    "        if won_by == AI_SIGN:\n",
    "            ai_wins.append(board)\n",
    "            move_list.remove(board)\n",
    "        elif won_by == OPPONENT_SIGN:\n",
    "            opponent_wins.append(board)\n",
    "            move_list.remove(board)"
   ]
  },
  {
   "cell_type": "markdown",
   "id": "7c9558c2",
   "metadata": {},
   "source": [
    "4. Create a \" count_possibilities \" function that prints and returns the number of decision tree leaves that ended with a draw, were won by the first player, and were won by the second player:"
   ]
  },
  {
   "cell_type": "code",
   "execution_count": 5,
   "id": "947dfd06",
   "metadata": {},
   "outputs": [],
   "source": [
    "def count_possibilities():\n",
    "# your code\n",
    "board = EMPTY_SIGN * 9\n",
    "    move_list = [board]\n",
    "    ai_wins = []\n",
    "    opponent_wins = []\n",
    "    for i in range(9):\n",
    "        print('step ' + str(i) + '. Moves: ' \\\n",
    "              + str(len(move_list)))\n",
    "        sign = AI_SIGN if \\\n",
    "               i % 2 == 0 else OPPONENT_SIGN\n",
    "        move_list = all_moves_from_board_list\\\n",
    "                    (move_list, sign)\n",
    "        filter_wins(move_list, ai_wins, \\\n",
    "                    opponent_wins)\n",
    "    print('First player wins: ' + str(len(ai_wins)))\n",
    "    print('Second player wins: ' + str(len(opponent_wins)))\n",
    "    print('Draw', str(len(move_list)))\n",
    "    print('Total', str(len(ai_wins) \\\n",
    "          + len(opponent_wins) + len(move_list)))\n",
    "    return len(ai_wins), len(opponent_wins), \\\n",
    "           len(move_list), len(ai_wins) \\\n",
    "           + len(opponent_wins) + len(move_list)"
   ]
  },
  {
   "cell_type": "markdown",
   "id": "bd3428fe",
   "metadata": {},
   "source": [
    "5. Finally, execute the number of possibilities to experience the combinatorial explosion"
   ]
  },
  {
   "cell_type": "code",
   "execution_count": 6,
   "id": "8aa8b1ce",
   "metadata": {},
   "outputs": [
    {
     "name": "stdout",
     "output_type": "stream",
     "text": [
      "step 0. Moves: 1\n",
      "step 1. Moves: 9\n",
      "step 2. Moves: 72\n",
      "step 3. Moves: 504\n",
      "step 4. Moves: 3024\n",
      "step 5. Moves: 13680\n",
      "step 6. Moves: 49402\n",
      "step 7. Moves: 111109\n",
      "step 8. Moves: 156775\n",
      "First player wins: 106279\n",
      "Second player wins: 68644\n",
      "Draw 91150\n",
      "Total 266073\n"
     ]
    }
   ],
   "source": [
    "first_player, second_player, draw, total = count_possibilities()"
   ]
  },
  {
   "cell_type": "code",
   "execution_count": null,
   "id": "ee95ae31",
   "metadata": {},
   "outputs": [],
   "source": []
  }
 ],
 "metadata": {
  "kernelspec": {
   "display_name": "Python 3 (ipykernel)",
   "language": "python",
   "name": "python3"
  },
  "language_info": {
   "codemirror_mode": {
    "name": "ipython",
    "version": 3
   },
   "file_extension": ".py",
   "mimetype": "text/x-python",
   "name": "python",
   "nbconvert_exporter": "python",
   "pygments_lexer": "ipython3",
   "version": "3.9.7"
  }
 },
 "nbformat": 4,
 "nbformat_minor": 5
}
