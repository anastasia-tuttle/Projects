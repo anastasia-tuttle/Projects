{
 "cells": [
  {
   "cell_type": "markdown",
   "id": "60e21ddc",
   "metadata": {},
   "source": [
    "# Following the steps to finish exercise 1"
   ]
  },
  {
   "cell_type": "markdown",
   "id": "e2278c54",
   "metadata": {},
   "source": [
    "1. Import the numpy library as np:"
   ]
  },
  {
   "cell_type": "code",
   "execution_count": 4,
   "id": "9217fd9b",
   "metadata": {},
   "outputs": [],
   "source": [
    "# your code\n",
    "import numpy as np"
   ]
  },
  {
   "cell_type": "markdown",
   "id": "fccb9783",
   "metadata": {},
   "source": [
    "2. Create a two-dimensional array called A for storing the [[1,3,5],[2,4,6],[7,8,9]] matrix using np.mat:"
   ]
  },
  {
   "cell_type": "code",
   "execution_count": 5,
   "id": "1b8c0f78",
   "metadata": {},
   "outputs": [
    {
     "data": {
      "text/plain": [
       "matrix([[1, 3, 5],\n",
       "        [2, 4, 6],\n",
       "        [7, 8, 9]])"
      ]
     },
     "execution_count": 5,
     "metadata": {},
     "output_type": "execute_result"
    }
   ],
   "source": [
    "# Your code\n",
    "A = np.array ([[1,3,5],[2,4,6],[7,8,9]])"
   ]
  },
  {
   "cell_type": "markdown",
   "id": "85347cc7",
   "metadata": {},
   "source": [
    "3. Perform matrix multiplication using the asterisk and save the result in a variable called matmult:"
   ]
  },
  {
   "cell_type": "code",
   "execution_count": 6,
   "id": "02d39088",
   "metadata": {},
   "outputs": [
    {
     "data": {
      "text/plain": [
       "matrix([[ 42,  55,  68],\n",
       "        [ 52,  70,  88],\n",
       "        [ 86, 125, 164]])"
      ]
     },
     "execution_count": 6,
     "metadata": {},
     "output_type": "execute_result"
    }
   ],
   "source": [
    "# Your code\n",
    "A * A"
   ]
  },
  {
   "cell_type": "markdown",
   "id": "bd60d57a",
   "metadata": {},
   "source": [
    "4. Use np.matrix.transpose to get the transpose of the matrix and save the result in a variable called transpose:"
   ]
  },
  {
   "cell_type": "code",
   "execution_count": 7,
   "id": "082d1fd8",
   "metadata": {},
   "outputs": [
    {
     "data": {
      "text/plain": [
       "matrix([[1, 2, 7],\n",
       "        [3, 4, 8],\n",
       "        [5, 6, 9]])"
      ]
     },
     "execution_count": 7,
     "metadata": {},
     "output_type": "execute_result"
    }
   ],
   "source": [
    "# Your code\n",
    "np.matrix.traspose(A)"
   ]
  },
  {
   "cell_type": "code",
   "execution_count": null,
   "id": "a08f0bf2",
   "metadata": {},
   "outputs": [],
   "source": []
  }
 ],
 "metadata": {
  "kernelspec": {
   "display_name": "Python 3 (ipykernel)",
   "language": "python",
   "name": "python3"
  },
  "language_info": {
   "codemirror_mode": {
    "name": "ipython",
    "version": 3
   },
   "file_extension": ".py",
   "mimetype": "text/x-python",
   "name": "python",
   "nbconvert_exporter": "python",
   "pygments_lexer": "ipython3",
   "version": "3.9.7"
  }
 },
 "nbformat": 4,
 "nbformat_minor": 5
}
